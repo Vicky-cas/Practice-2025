{
 "cells": [
  {
   "cell_type": "code",
   "execution_count": 5,
   "id": "cd61dc29-c6bc-4d99-9384-84a78f9d5008",
   "metadata": {},
   "outputs": [
    {
     "name": "stdout",
     "output_type": "stream",
     "text": [
      "{'success': 'true', 'result': {'resource_id': 'F-C0032-001', 'fields': [{'id': 'datasetDescription', 'type': 'String'}, {'id': 'locationName', 'type': 'String'}, {'id': 'parameterName', 'type': 'String'}, {'id': 'parameterValue', 'type': 'String'}, {'id': 'parameterUnit', 'type': 'String'}, {'id': 'startTime', 'type': 'Timestamp'}, {'id': 'endTime', 'type': 'Timestamp'}]}, 'records': {'datasetDescription': '三十六小時天氣預報', 'location': [{'locationName': '臺北市', 'weatherElement': [{'elementName': 'Wx', 'time': [{'startTime': '2025-10-05 18:00:00', 'endTime': '2025-10-06 06:00:00', 'parameter': {'parameterName': '晴時多雲', 'parameterValue': '2'}}, {'startTime': '2025-10-06 06:00:00', 'endTime': '2025-10-06 18:00:00', 'parameter': {'parameterName': '晴時多雲', 'parameterValue': '2'}}, {'startTime': '2025-10-06 18:00:00', 'endTime': '2025-10-07 06:00:00', 'parameter': {'parameterName': '晴時多雲', 'parameterValue': '2'}}]}, {'elementName': 'PoP', 'time': [{'startTime': '2025-10-05 18:00:00', 'endTime': '2025-10-06 06:00:00', 'parameter': {'parameterName': '10', 'parameterUnit': '百分比'}}, {'startTime': '2025-10-06 06:00:00', 'endTime': '2025-10-06 18:00:00', 'parameter': {'parameterName': '10', 'parameterUnit': '百分比'}}, {'startTime': '2025-10-06 18:00:00', 'endTime': '2025-10-07 06:00:00', 'parameter': {'parameterName': '20', 'parameterUnit': '百分比'}}]}, {'elementName': 'MinT', 'time': [{'startTime': '2025-10-05 18:00:00', 'endTime': '2025-10-06 06:00:00', 'parameter': {'parameterName': '27', 'parameterUnit': 'C'}}, {'startTime': '2025-10-06 06:00:00', 'endTime': '2025-10-06 18:00:00', 'parameter': {'parameterName': '27', 'parameterUnit': 'C'}}, {'startTime': '2025-10-06 18:00:00', 'endTime': '2025-10-07 06:00:00', 'parameter': {'parameterName': '27', 'parameterUnit': 'C'}}]}, {'elementName': 'CI', 'time': [{'startTime': '2025-10-05 18:00:00', 'endTime': '2025-10-06 06:00:00', 'parameter': {'parameterName': '舒適至悶熱'}}, {'startTime': '2025-10-06 06:00:00', 'endTime': '2025-10-06 18:00:00', 'parameter': {'parameterName': '舒適至悶熱'}}, {'startTime': '2025-10-06 18:00:00', 'endTime': '2025-10-07 06:00:00', 'parameter': {'parameterName': '舒適至悶熱'}}]}, {'elementName': 'MaxT', 'time': [{'startTime': '2025-10-05 18:00:00', 'endTime': '2025-10-06 06:00:00', 'parameter': {'parameterName': '31', 'parameterUnit': 'C'}}, {'startTime': '2025-10-06 06:00:00', 'endTime': '2025-10-06 18:00:00', 'parameter': {'parameterName': '35', 'parameterUnit': 'C'}}, {'startTime': '2025-10-06 18:00:00', 'endTime': '2025-10-07 06:00:00', 'parameter': {'parameterName': '31', 'parameterUnit': 'C'}}]}]}]}}\n"
     ]
    }
   ],
   "source": [
    "import requests\n",
    "\n",
    "# 中央氣象署 API 授權碼\n",
    "cwa_api_key = \"CWA-13E0218C-0EE7-4EC8-BBA4-6A8E26DEB6DF\"\n",
    "# API 代碼 (F-C0032-001 = 縣市天氣預報資料)\n",
    "data_id = \"F-C0032-001\"\n",
    "\n",
    "url = f\"https://opendata.cwa.gov.tw/api/v1/rest/datastore/{data_id}\"\n",
    "params = {\"Authorization\": cwa_api_key, \"locationName\": '臺北市', \"format\": \"JSON\"}\n",
    "response = requests.get(url, params=params)\n",
    "data = response.json()\n",
    "print(data)"
   ]
  },
  {
   "cell_type": "code",
   "execution_count": 1,
   "id": "436b0e70-385e-40e4-bf29-17ecb944c3cf",
   "metadata": {},
   "outputs": [
    {
     "name": "stdin",
     "output_type": "stream",
     "text": [
      "\n",
      "請輸入想查詢的縣市名稱 (例如: 臺北市, 桃園市, 高雄市):  桃園市\n"
     ]
    },
    {
     "name": "stdout",
     "output_type": "stream",
     "text": [
      "\n",
      "--- 中央氣象署天氣預報 ---\n",
      " 地點：桃園市\n",
      " 預報時段：2025-10-05 18:00:00 至 2025-10-06 06:00:00\n",
      "--------------------------\n",
      " 天氣狀況：晴時多雲\n",
      " 溫度範圍：26°C - 30°C\n",
      " 降雨機率：10百分比\n",
      " 舒適度：舒適至悶熱\n",
      "--------------------------\n"
     ]
    }
   ],
   "source": [
    "import requests\n",
    "\n",
    "# 中央氣象署 API 授權碼\n",
    "cwa_api_key = \"CWA-13E0218C-0EE7-4EC8-BBA4-6A8E26DEB6DF\"\n",
    "# API 代碼 (F-C0032-001 = 縣市天氣預報資料)\n",
    "data_id = \"F-C0032-001\"\n",
    "\n",
    "def get_cwa_weather(location_name):\n",
    "    \"\"\"\n",
    "    從中央氣象署 API 取得指定縣市的天氣資料\n",
    "    \"\"\"\n",
    "    url = f\"https://opendata.cwa.gov.tw/api/v1/rest/datastore/{data_id}\"\n",
    "    params = {\"Authorization\": cwa_api_key, \"locationName\": location_name, \"format\": \"JSON\"}\n",
    "\n",
    "    try:\n",
    "        response = requests.get(url, params=params)\n",
    "        response.raise_for_status()  # 如果 HTTP 狀態碼錯誤，會丟出例外\n",
    "        data = response.json()\n",
    "\n",
    "        # 從 JSON 中找到 location 資料\n",
    "        location_data = data.get(\"records\", {}).get(\"location\", [])\n",
    "        if not location_data:\n",
    "            print(f\"找不到「{location_name}」的天氣資料\")\n",
    "            return None\n",
    "        return location_data[0]\n",
    "\n",
    "    except Exception as e:\n",
    "        print(f\"API 請求失敗：{e}\")\n",
    "        return None\n",
    "\n",
    "\n",
    "def display_cwa_weather(location_data):\n",
    "    \"\"\"\n",
    "    顯示縣市天氣資料\n",
    "    \"\"\"\n",
    "    if not location_data:\n",
    "        print(\"⚠ 沒有天氣資料\")\n",
    "        return\n",
    "\n",
    "    # 取得地區名稱\n",
    "    location_name = location_data.get(\"locationName\", \"未知地區\")\n",
    "\n",
    "    # 將各項天氣資料整理成字典\n",
    "    forecast = {}\n",
    "    for element in location_data.get(\"weatherElement\", []):\n",
    "        element_name = element.get(\"elementName\")\n",
    "        first_period = element.get(\"time\", [{}])[0]  # 只取第一個時段\n",
    "        parameter = first_period.get(\"parameter\", {})\n",
    "        forecast[element_name] = {\n",
    "            \"start_time\": first_period.get(\"startTime\", \"N/A\"),\n",
    "            \"end_time\": first_period.get(\"endTime\", \"N/A\"),\n",
    "            \"value\": parameter.get(\"parameterName\", \"N/A\"),\n",
    "            \"unit\": parameter.get(\"parameterUnit\", \"\")\n",
    "        }\n",
    "\n",
    "    # 輸出結果\n",
    "    print(\"\\n--- 中央氣象署天氣預報 ---\")\n",
    "    print(f\" 地點：{location_name}\")\n",
    "    print(f\" 預報時段：{forecast.get('Wx', {}).get('start_time')} 至 {forecast.get('Wx', {}).get('end_time')}\")\n",
    "    print(\"--------------------------\")\n",
    "    print(f\" 天氣狀況：{forecast.get('Wx', {}).get('value')}\")\n",
    "    print(f\" 溫度範圍：{forecast.get('MinT', {}).get('value')}°{forecast.get('MinT', {}).get('unit')} - \"\n",
    "          f\"{forecast.get('MaxT', {}).get('value')}°{forecast.get('MaxT', {}).get('unit')}\")\n",
    "    print(f\" 降雨機率：{forecast.get('PoP', {}).get('value')}{forecast.get('PoP', {}).get('unit')}\")\n",
    "    print(f\" 舒適度：{forecast.get('CI', {}).get('value')}\")\n",
    "    print(\"--------------------------\")\n",
    "\n",
    "\n",
    "# --- 主程式 ---\n",
    "if __name__ == \"__main__\":\n",
    "    user_input = input(\"\\n請輸入想查詢的縣市名稱 (例如: 臺北市, 桃園市, 高雄市): \")\n",
    "    if user_input:\n",
    "        data = get_cwa_weather(user_input)\n",
    "        display_cwa_weather(data)\n"
   ]
  },
  {
   "cell_type": "code",
   "execution_count": null,
   "id": "946d8a97-cb62-4dc8-b393-2df68c629a48",
   "metadata": {},
   "outputs": [],
   "source": []
  }
 ],
 "metadata": {
  "kernelspec": {
   "display_name": "Python [conda env:base] *",
   "language": "python",
   "name": "conda-base-py"
  },
  "language_info": {
   "codemirror_mode": {
    "name": "ipython",
    "version": 3
   },
   "file_extension": ".py",
   "mimetype": "text/x-python",
   "name": "python",
   "nbconvert_exporter": "python",
   "pygments_lexer": "ipython3",
   "version": "3.12.3"
  }
 },
 "nbformat": 4,
 "nbformat_minor": 5
}
